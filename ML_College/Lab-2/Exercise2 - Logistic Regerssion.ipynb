{
 "cells": [
  {
   "cell_type": "markdown",
   "metadata": {},
   "source": [
    "# Logistic Regerssion"
   ]
  },
  {
   "cell_type": "code",
   "execution_count": 1,
   "metadata": {
    "collapsed": true
   },
   "outputs": [],
   "source": [
    "# %load ../../standard_import.txt\n",
    "import pandas as pd\n",
    "import numpy as np\n",
    "import matplotlib as mpl\n",
    "import matplotlib.pyplot as plt\n",
    "\n",
    "from scipy.optimize import minimize\n",
    "from sklearn.preprocessing import PolynomialFeatures\n",
    "import sys\n",
    "\n",
    "from mpl_toolkits.mplot3d import Axes3D\n",
    " \n",
    "import seaborn as sns\n",
    "\n",
    "%matplotlib inline"
   ]
  },
  {
   "cell_type": "markdown",
   "metadata": {},
   "source": [
    "### Loading data "
   ]
  },
  {
   "cell_type": "code",
   "execution_count": 2,
   "metadata": {},
   "outputs": [
    {
     "name": "stdout",
     "output_type": "stream",
     "text": [
      "Dimensions:  (100, 3)\n",
      "file: ex2data1.txt\n",
      "number of features (n): 3\n",
      "number of examples (m):100\n",
      "\n",
      "[60.18259939 79.03273605 61.10666454 75.02474557 76.0987867  84.43281996\n",
      " 82.30705337 69.36458876 53.97105215 69.07014406 70.66150955 76.97878373\n",
      " 89.67677575 77.92409145 62.27101367 80.19018075 61.37928945 85.40451939\n",
      " 52.04540477 64.17698887 83.90239366 94.44336777 77.19303493 97.77159928\n",
      " 62.0730638  91.5649745  79.94481794 99.27252693 90.54671411 97.64563396\n",
      " 74.24869137 71.79646206 75.39561147 40.45755098 80.27957401 66.74671857\n",
      " 64.03932042 72.34649423 60.45788574 58.84095622 99.8278578  47.26426911\n",
      " 50.4581598  88.91389642 94.83450672 67.31925747 57.23870632 80.366756\n",
      " 68.46852179 75.47770201 78.63542435 94.09433113 90.44855097 74.49269242\n",
      " 89.84580671 83.48916274 42.26170081 99.31500881 55.34001756 74.775893  ]\n"
     ]
    },
    {
     "data": {
      "image/png": "[encoded data removed]",
      "text/plain": [
       "<Figure size 432x288 with 1 Axes>"
      ]
     },
     "metadata": {
      "needs_background": "light"
     },
     "output_type": "display_data"
    }
   ],
   "source": [
    "file_name = 'ex2data1.txt'\n",
    "data = np.loadtxt(file_name, delimiter =',')\n",
    "print('Dimensions: ',data.shape)\n",
    "\n",
    "X = np.c_[np.ones((len(data),1)), data[:,0:2]] # create X array colum of 1's and 2 colums of data\n",
    "y = np.c_[data[:,2]]# create y array colum of output data data\n",
    "\n",
    "m = X.shape[0] # number of training examples\n",
    "n = X.shape[1]# number of features... includeing the addition of the 1's\n",
    "\n",
    "print('file: %s'%(file_name))\n",
    "print('number of features (n): %.0f'%(n))\n",
    "print('number of examples (m):%.0f\\n'%(m))\n",
    "\n",
    "def plotData(data, label_x, label_y, label_pos, label_neg, axes = None):\n",
    "\n",
    "    # Get indexes for class 0 and class 1\n",
    "    neg = data[:,2] == 0 # ind where all the negative values are\n",
    "    pos = data[:,2] == 1 # ind where all the postive values are\n",
    "    \n",
    "    # If no specific axes object has been passed, get the current axes.\n",
    "    \n",
    "    plt.figure()\n",
    "    if axes == None:\n",
    "        axes = plt.gca()\n",
    "    #plot\n",
    "    axes.scatter(data[pos][:,0], data[pos][:,1], marker = '+', c = 'k', s=60, linewidth=2, label=label_pos)\n",
    "    axes.scatter(data[neg][:,0], data[neg][:,1], c ='y', s = 60, label = label_neg)\n",
    "    axes.set_xlabel(label_x)\n",
    "    axes.set_ylabel(label_y)\n",
    "    axes.legend(frameon = True, fancybox = True);\n",
    "    plt.grid(True)\n",
    "    \n",
    "    print(data[pos][:,0])\n",
    "\n",
    "plotData(data, 'Exam 1 score', 'Exam 2 score', 'Admitted', 'Not admitted')"
   ]
  },
  {
   "cell_type": "markdown",
   "metadata": {},
   "source": [
    "### Logistic regression"
   ]
  },
  {
   "cell_type": "markdown",
   "metadata": {},
   "source": [
    "### Sigmoid Function"
   ]
  },
  {
   "cell_type": "code",
   "execution_count": 3,
   "metadata": {},
   "outputs": [
    {
     "data": {
      "image/png": "[encoded data removed]",
      "text/plain": [
       "<Figure size 432x288 with 1 Axes>"
      ]
     },
     "metadata": {
      "needs_background": "light"
     },
     "output_type": "display_data"
    }
   ],
   "source": [
    "def sigmoid(z):\n",
    "    g = 1 / (1 + np.exp(-z))\n",
    "    return(g)\n",
    "\n",
    "# test on a few values\n",
    "xx = np.linspace(-10, 10, 1000)\n",
    "\n",
    "# plot sigmoid function vs. x\n",
    "plt.plot(xx, sigmoid(xx))\n",
    "plt.xlabel(r'$x$')\n",
    "plt.ylabel(r'$g(x)$')\n",
    "plt.grid(True)"
   ]
  },
  {
   "cell_type": "code",
   "execution_count": 4,
   "metadata": {},
   "outputs": [
    {
     "name": "stdout",
     "output_type": "stream",
     "text": [
      "values at initial thetas:\n",
      "\ttheta_0: 0.00\n",
      "\ttheta_1: 0.00\n",
      "\ttheta_2: 0.00\n",
      "Grad Cost: \n",
      "\tdtheta_0 = -0.100,\n",
      "\tdtheta_1 = -12.009 \n",
      "\tdtheta = -11.263\n",
      "Cost of initial thetas: 0.693\n"
     ]
    }
   ],
   "source": [
    "def costFunction(theta, X, y):\n",
    "    h = sigmoid(X.dot(theta))\n",
    "    \n",
    "    J = -1 * (1/m) * (np.log(h).T.dot(y) + np.log(1 - h).T.dot(1 - y))\n",
    "               \n",
    "    if np.isnan(J[0]):\n",
    "        return(np.inf)\n",
    "    return(J[0])\n",
    "\n",
    "def gradient(theta, X, y):\n",
    "    m = y.size\n",
    "    h = sigmoid(X.dot(theta.reshape(-1, 1)))\n",
    "    \n",
    "    dJ =(1/m) * X.T.dot(h - y)\n",
    "\n",
    "    return(dJ.flatten())\n",
    "\n",
    "initial_theta = np.zeros(X.shape[1])\n",
    "cost = costFunction(initial_theta, X, y)\n",
    "dJ = gradient(initial_theta, X, y)\n",
    "\n",
    "print('values at initial thetas:')\n",
    "print('\\ttheta_0: %.2f'%(initial_theta[0]))\n",
    "print('\\ttheta_1: %.2f'%(initial_theta[1]))\n",
    "print('\\ttheta_2: %.2f'%(initial_theta[2]))\n",
    "print('Grad Cost: \\n\\tdtheta_0 = %.3f,\\n\\tdtheta_1 = %.3f \\n\\tdtheta = %.3f'%(dJ[0], dJ[1], dJ[2]))\n",
    "print('Cost of initial thetas: %.3f'%(cost))\n",
    "\n"
   ]
  },
  {
   "cell_type": "markdown",
   "metadata": {},
   "source": [
    "### Optimisation of cost fucntion"
   ]
  },
  {
   "cell_type": "code",
   "execution_count": 5,
   "metadata": {},
   "outputs": [
    {
     "name": "stdout",
     "output_type": "stream",
     "text": [
      "The theta variables for the linear boundary Decision using minimise are:\n",
      "\ttheta_0 = -25.161 \n",
      "\ttheta_1 = 0.206 \n",
      "\ttheta_2 = 0.201\n",
      "Cost of at best fit = 0.203\n"
     ]
    },
    {
     "name": "stderr",
     "output_type": "stream",
     "text": [
      "/tmp/ipykernel_9019/943312107.py:4: RuntimeWarning: divide by zero encountered in log\n",
      "  J = -1 * (1/m) * (np.log(h).T.dot(y) + np.log(1 - h).T.dot(1 - y))\n",
      "/tmp/ipykernel_9019/943312107.py:4: RuntimeWarning: divide by zero encountered in log\n",
      "  J = -1 * (1/m) * (np.log(h).T.dot(y) + np.log(1 - h).T.dot(1 - y))\n"
     ]
    }
   ],
   "source": [
    "res_opt = minimize(costFunction, initial_theta, args = (X,y), method = None, jac = gradient, options = {'maxiter':400})\n",
    "theta1 = res_opt.x # set the optimised theta values\n",
    "J1 = costFunction(theta1, X, y)\n",
    "\n",
    "print('The theta variables for the linear boundary Decision using minimise are:')\n",
    "print('\\ttheta_0 = %.3f \\n\\ttheta_1 = %.3f \\n\\ttheta_2 = %.3f'%(theta1[0],theta1[1],theta1[2]))\n",
    "print('Cost of at best fit = %.3f'%(J1))"
   ]
  },
  {
   "cell_type": "markdown",
   "metadata": {},
   "source": [
    "### Predict using sklearn"
   ]
  },
  {
   "cell_type": "code",
   "execution_count": 6,
   "metadata": {},
   "outputs": [
    {
     "name": "stdout",
     "output_type": "stream",
     "text": [
      "-----------------------------------------------------------\n",
      "RESULTS USING THE MINIMISE FUNCTION\n",
      "\n",
      "Optimisation fucntion:minimise()\n",
      "\n",
      "Values of thetea:\n",
      "\ttheta_0: -25.16\n",
      "\ttheta_1: 0.21\n",
      "\ttheta_2:0.20\n",
      "Cost: 0.203\n",
      "\n",
      "Single Student  results:\n",
      "Student Grades:\n",
      "\tFirts Exam: 45.00\n",
      "\tSecond Exam: 85.00\n",
      "Predicted Grade: PASS\n",
      "Probability of Admission: 77.63%\n",
      "\n",
      "\n",
      "Full Class  results:\n",
      "number of correct prediction: 89.00\n",
      "Train accuracy 89.00%\n",
      "-----------------------------------------------------------\n"
     ]
    }
   ],
   "source": [
    "\n",
    "\n",
    "from sklearn.metrics import precision_recall_fscore_support as score\n",
    "from sklearn.model_selection import train_test_split\n",
    "\n",
    "#predicts the pass or fail of students from exam1 & 2 (provided in X)\n",
    "def predict(theta, X, threshold = 0.5):\n",
    "        \n",
    "    p = sigmoid(X.dot(theta.T)) >= threshold # true if sigmoid of exams results using optimised theta > 0.5\n",
    "    return(p.astype('int'))# 1 if true (i.e. pass) 0 = false (i.e. fail)\n",
    "\n",
    "# Student with Exam 1 score 45 and Exam 2 score 85\n",
    "# Predict using the optimized Theta values from above\n",
    "Student_A = np.array([1,45, 85]) \n",
    "Student_A_prob = sigmoid(Student_A.dot(theta1.T))\n",
    "grade_Stu_A = predict(theta1, Student_A)\n",
    "\n",
    "Class_Admissions = predict(theta1, X)\n",
    "correct_pred = sum(Class_Admissions == y.ravel())\n",
    "predict_rate = correct_pred/Class_Admissions.size\n",
    "\n",
    "print('-----------------------------------------------------------')\n",
    "print('RESULTS USING THE MINIMISE FUNCTION\\n')\n",
    "print('Optimisation fucntion:minimise()')\n",
    "print('\\nValues of thetea:')\n",
    "print('\\ttheta_0: %.2f'%(theta1[0]))\n",
    "print('\\ttheta_1: %.2f'%(theta1[1]))\n",
    "print('\\ttheta_2:%.2f'%(theta1[2]))\n",
    "print('Cost: %.3f'%(J1))\n",
    "\n",
    "print('\\nSingle Student  results:')\n",
    "print('Student Grades:')\n",
    "print('\\tFirts Exam: %.2f'%(Student_A[1]))\n",
    "print('\\tSecond Exam: %.2f'%(Student_A[2]))\n",
    "print('Predicted Grade: %s'%('PASS' if grade_Stu_A == 1 else 'FAIL')) #prints pass if pass is predited else prints fail\n",
    "print('Probability of Admission: %.2f%%'%(Student_A_prob * 100))\n",
    "print('\\n')\n",
    "\n",
    "print('Full Class  results:')\n",
    "print('number of correct prediction: %.2f'%(correct_pred))\n",
    "print('Train accuracy %.2f%%'%(100 * predict_rate))\n",
    "print('-----------------------------------------------------------')\n"
   ]
  },
  {
   "cell_type": "markdown",
   "metadata": {},
   "source": [
    "### Boundary Decision"
   ]
  },
  {
   "cell_type": "code",
   "execution_count": 7,
   "metadata": {},
   "outputs": [
    {
     "name": "stdout",
     "output_type": "stream",
     "text": [
      "[60.18259939 79.03273605 61.10666454 75.02474557 76.0987867  84.43281996\n",
      " 82.30705337 69.36458876 53.97105215 69.07014406 70.66150955 76.97878373\n",
      " 89.67677575 77.92409145 62.27101367 80.19018075 61.37928945 85.40451939\n",
      " 52.04540477 64.17698887 83.90239366 94.44336777 77.19303493 97.77159928\n",
      " 62.0730638  91.5649745  79.94481794 99.27252693 90.54671411 97.64563396\n",
      " 74.24869137 71.79646206 75.39561147 40.45755098 80.27957401 66.74671857\n",
      " 64.03932042 72.34649423 60.45788574 58.84095622 99.8278578  47.26426911\n",
      " 50.4581598  88.91389642 94.83450672 67.31925747 57.23870632 80.366756\n",
      " 68.46852179 75.47770201 78.63542435 94.09433113 90.44855097 74.49269242\n",
      " 89.84580671 83.48916274 42.26170081 99.31500881 55.34001756 74.775893  ]\n"
     ]
    },
    {
     "data": {
      "image/png": "[encoded data removed]",
      "text/plain": [
       "<Figure size 432x288 with 1 Axes>"
      ]
     },
     "metadata": {
      "needs_background": "light"
     },
     "output_type": "display_data"
    }
   ],
   "source": [
    "#find the max and min of exam results to create limits for trend line\n",
    "x1_min, x1_max = X[:,1].min(), X[:,1].max(),\n",
    "x2_min, x2_max = X[:,2].min(), X[:,2].max(),\n",
    "\n",
    "xx1, xx2 = np.meshgrid(np.linspace(x1_min, x1_max), np.linspace(x2_min, x2_max)) \n",
    "\n",
    "#create a of X_data in one line... rshape it later.. this is faster\n",
    "x0_line = np.ones((xx1.ravel().shape[0],1)) \n",
    "x1_line = xx1.ravel()\n",
    "x2_line = xx2.ravel()\n",
    "\n",
    "h_prep = np.c_[x0_line, x1_line, x2_line].dot(theta1)\n",
    "h = sigmoid(h_prep) # pass it thought the sigmoid fucntion\n",
    "h = h.reshape(xx1.shape) # rehape it to the size of teh grid\n",
    "\n",
    "plotData(data, 'Exam 1 score', 'Exam 2 score', 'Admitted', 'Not admitted')\n",
    "plt.contour(xx1, xx2, h, [0.5], linewidths=1, colors='b'); \n",
    "\n",
    "\n"
   ]
  }
 ],
 "metadata": {
  "kernelspec": {
   "display_name": "Python 3",
   "language": "python",
   "name": "python3"
  },
  "language_info": {
   "codemirror_mode": {
    "name": "ipython",
    "version": 3
   },
   "file_extension": ".py",
   "mimetype": "text/x-python",
   "name": "python",
   "nbconvert_exporter": "python",
   "pygments_lexer": "ipython3",
   "version": "3.10.12"
  }
 },
 "nbformat": 4,
 "nbformat_minor": 2
}
